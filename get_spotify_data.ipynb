{
 "cells": [
  {
   "cell_type": "code",
   "execution_count": 18,
   "metadata": {},
   "outputs": [],
   "source": [
    "from dotenv import load_dotenv\n",
    "import os \n",
    "load_dotenv()\n",
    "\n",
    "ClientId = os.getenv('ClientId')\n",
    "SecretKey = os.getenv('SecretKey')\n"
   ]
  },
  {
   "cell_type": "code",
   "execution_count": null,
   "metadata": {},
   "outputs": [],
   "source": [
    "import spotipy\n",
    "from spotipy.oauth2 import SpotifyOAuth\n",
    "from dotenv import load_dotenv\n",
    "import json\n",
    "load_dotenv()\n",
    "scope = \"user-read-playback-state\"\n",
    "\n",
    "#load creadentials\n",
    "SPOTIPY_CLIENT_ID  = os.getenv('ClientId')\n",
    "SPOTIPY_REDIRECT_URI = os.getenv('RedirectURI')\n",
    "SPOTIPY_CLIENT_SECRET = os.getenv('SecretKey')\n",
    "\n",
    "sp = spotipy.Spotify(auth_manager=SpotifyOAuth(client_id=SPOTIPY_CLIENT_ID, client_secret=SPOTIPY_CLIENT_SECRET,redirect_uri=SPOTIPY_REDIRECT_URI,scope=scope))\n",
    "\n",
    "user_info = sp.current_user()\n",
    "print('User Info: \\n')\n",
    "print(json.dumps(user_info))\n",
    "\n",
    "devices = sp.devices()\n",
    "print(\"Devices: \\n\")\n",
    "print(json.dumps(devices))\n",
    "\n",
    "results = sp.current_user_saved_tracks()\n",
    "for idx, item in enumerate(results['items']):\n",
    "    track = item['track']\n",
    "    print(idx, track['artists'][0]['name'], \" – \", track['name'])\n",
    "\n",
    "sp.next_track()"
   ]
  }
 ],
 "metadata": {
  "kernelspec": {
   "display_name": "Python 3",
   "language": "python",
   "name": "python3"
  },
  "language_info": {
   "codemirror_mode": {
    "name": "ipython",
    "version": 3
   },
   "file_extension": ".py",
   "mimetype": "text/x-python",
   "name": "python",
   "nbconvert_exporter": "python",
   "pygments_lexer": "ipython3",
   "version": "3.10.11"
  }
 },
 "nbformat": 4,
 "nbformat_minor": 2
}
