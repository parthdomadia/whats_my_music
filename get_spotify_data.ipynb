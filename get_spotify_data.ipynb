{
 "cells": [
  {
   "cell_type": "code",
   "execution_count": 1,
   "metadata": {},
   "outputs": [],
   "source": [
    "from dotenv import load_dotenv\n",
    "import os \n",
    "load_dotenv()\n",
    "\n",
    "ClientId = os.getenv('ClientId')\n",
    "SecretKey = os.getenv('SecretKey')\n"
   ]
  },
  {
   "cell_type": "code",
   "execution_count": null,
   "metadata": {},
   "outputs": [],
   "source": [
    "import spotipy\n",
    "from spotipy.oauth2 import SpotifyOAuth\n",
    "from dotenv import load_dotenv\n",
    "import json\n",
    "load_dotenv()\n",
    "scope = \"user-read-playback-state\"\n",
    "\n",
    "#load creadentials\n",
    "SPOTIPY_CLIENT_ID  = os.getenv('ClientId')\n",
    "SPOTIPY_REDIRECT_URI = os.getenv('RedirectURI')\n",
    "SPOTIPY_CLIENT_SECRET = os.getenv('SecretKey')\n",
    "\n",
    "sp = spotipy.Spotify(auth_manager=SpotifyOAuth(client_id=SPOTIPY_CLIENT_ID, client_secret=SPOTIPY_CLIENT_SECRET,redirect_uri=SPOTIPY_REDIRECT_URI,scope=scope))\n",
    "\n",
    "user_info = sp.current_user()\n",
    "print('User Info: \\n')\n",
    "print(json.dumps(user_info))\n",
    "\n",
    "devices = sp.devices()\n",
    "print(\"Devices: \\n\")\n",
    "print(json.dumps(devices))\n",
    "\n",
    "results = sp.current_user_saved_tracks()\n",
    "for idx, item in enumerate(results['items']):\n",
    "    track = item['track']\n",
    "    print(idx, track['artists'][0]['name'], \" – \", track['name'])\n",
    "\n",
    "sp.next_track()"
   ]
  },
  {
   "cell_type": "code",
   "execution_count": 7,
   "metadata": {},
   "outputs": [
    {
     "name": "stdout",
     "output_type": "stream",
     "text": [
      "0 Whatever\n",
      "1 Crossfade\n",
      "2 Get High\n",
      "3 My Shazam Tracks\n",
      "4 Oreno gym\n",
      "5 Get ready with me\n",
      "6 My workout\n",
      "7 Songs which are a vibe\n",
      "8 Hindi lofi\n",
      "9 HYPE\n",
      "10 Ride Along\n",
      "11 Dance songs\n",
      "12 New year's jiggy\n",
      "13 Bajana\n",
      "14 George Fitzgerald\n",
      "15 Play it and get high\n",
      "16 Oldie goldie\n",
      "17 90's neons\n",
      "18 BALL IS LIFE\n",
      "19 You won't have to skip\n",
      "20 Just listen to IT\n",
      "21 Motivation\n",
      "22 Soulful\n",
      "23 Muse\n"
     ]
    }
   ],
   "source": [
    "import spotipy\n",
    "import os \n",
    "from spotipy.oauth2 import SpotifyOAuth\n",
    "from dotenv import load_dotenv\n",
    "import json\n",
    "load_dotenv()\n",
    "scope = \"user-library-read\"\n",
    "\n",
    "#load creadentials\n",
    "SPOTIPY_CLIENT_ID  = os.getenv('ClientId')\n",
    "SPOTIPY_REDIRECT_URI = os.getenv('RedirectURI')\n",
    "SPOTIPY_CLIENT_SECRET = os.getenv('SecretKey')\n",
    "\n",
    "sp = spotipy.Spotify(auth_manager=SpotifyOAuth(client_id=SPOTIPY_CLIENT_ID, client_secret=SPOTIPY_CLIENT_SECRET,redirect_uri=SPOTIPY_REDIRECT_URI,scope=scope))\n",
    "\n",
    "\n",
    "\n",
    "results = sp.current_user_playlists(limit=50)\n",
    "# print(json.dumps(results))\n",
    "# print(len(results['items']))\n",
    "# for idx, item in enumerate(results['items']):\n",
    "#     track = item['track']\n",
    "#     print(idx, track['artists'][0]['name'], \" – \", track['name'])\n",
    "\n",
    "playlists = []\n",
    "for idx, item in enumerate(results['items']):\n",
    "    playlist_name = item['name']\n",
    "    playlists.append(playlist_name)\n",
    "    print(idx, playlist_name)\n",
    "\n"
   ]
  }
 ],
 "metadata": {
  "kernelspec": {
   "display_name": "Python 3",
   "language": "python",
   "name": "python3"
  },
  "language_info": {
   "codemirror_mode": {
    "name": "ipython",
    "version": 3
   },
   "file_extension": ".py",
   "mimetype": "text/x-python",
   "name": "python",
   "nbconvert_exporter": "python",
   "pygments_lexer": "ipython3",
   "version": "3.10.11"
  }
 },
 "nbformat": 4,
 "nbformat_minor": 2
}
