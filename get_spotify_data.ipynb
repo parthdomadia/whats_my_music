{
 "cells": [
  {
   "cell_type": "code",
   "execution_count": 1,
   "metadata": {},
   "outputs": [],
   "source": [
    "from dotenv import load_dotenv\n",
    "import os \n",
    "load_dotenv()\n",
    "\n",
    "ClientId = os.getenv('ClientId')\n",
    "SecretKey = os.getenv('SecretKey')\n"
   ]
  },
  {
   "cell_type": "code",
   "execution_count": null,
   "metadata": {},
   "outputs": [],
   "source": [
    "import spotipy\n",
    "from spotipy.oauth2 import SpotifyOAuth\n",
    "from dotenv import load_dotenv\n",
    "import json\n",
    "load_dotenv()\n",
    "scope = \"user-read-playback-state\"\n",
    "\n",
    "#load creadentials\n",
    "SPOTIPY_CLIENT_ID  = os.getenv('ClientId')\n",
    "SPOTIPY_REDIRECT_URI = os.getenv('RedirectURI')\n",
    "SPOTIPY_CLIENT_SECRET = os.getenv('SecretKey')\n",
    "\n",
    "sp = spotipy.Spotify(auth_manager=SpotifyOAuth(client_id=SPOTIPY_CLIENT_ID, client_secret=SPOTIPY_CLIENT_SECRET,redirect_uri=SPOTIPY_REDIRECT_URI,scope=scope))\n",
    "\n",
    "user_info = sp.current_user()\n",
    "print('User Info: \\n')\n",
    "print(json.dumps(user_info))\n",
    "\n",
    "devices = sp.devices()\n",
    "print(\"Devices: \\n\")\n",
    "print(json.dumps(devices))\n",
    "\n",
    "results = sp.current_user_saved_tracks()\n",
    "for idx, item in enumerate(results['items']):\n",
    "    track = item['track']\n",
    "    print(idx, track['artists'][0]['name'], \" – \", track['name'])\n",
    "\n",
    "sp.next_track()"
   ]
  },
  {
   "cell_type": "code",
   "execution_count": 11,
   "metadata": {},
   "outputs": [
    {
     "name": "stdout",
     "output_type": "stream",
     "text": [
      "{'href': 'https://api.spotify.com/v1/me/tracks?offset=300&limit=50', 'items': [], 'limit': 50, 'next': None, 'offset': 300, 'previous': 'https://api.spotify.com/v1/me/tracks?offset=250&limit=50', 'total': 271}\n",
      "0\n"
     ]
    }
   ],
   "source": [
    "import spotipy\n",
    "from spotipy.oauth2 import SpotifyOAuth\n",
    "from dotenv import load_dotenv\n",
    "import json\n",
    "load_dotenv()\n",
    "scope = \"user-library-read\"\n",
    "\n",
    "#load creadentials\n",
    "SPOTIPY_CLIENT_ID  = os.getenv('ClientId')\n",
    "SPOTIPY_REDIRECT_URI = os.getenv('RedirectURI')\n",
    "SPOTIPY_CLIENT_SECRET = os.getenv('SecretKey')\n",
    "\n",
    "sp = spotipy.Spotify(auth_manager=SpotifyOAuth(client_id=SPOTIPY_CLIENT_ID, client_secret=SPOTIPY_CLIENT_SECRET,redirect_uri=SPOTIPY_REDIRECT_URI,scope=scope))\n",
    "\n",
    "\n",
    "\n",
    "results = sp.current_user_saved_tracks(limit=50,offset=300)\n",
    "print(results)\n",
    "print(len(results['items']))\n",
    "for idx, item in enumerate(results['items']):\n",
    "    track = item['track']\n",
    "    print(idx, track['artists'][0]['name'], \" – \", track['name'])\n"
   ]
  }
 ],
 "metadata": {
  "kernelspec": {
   "display_name": "Python 3",
   "language": "python",
   "name": "python3"
  },
  "language_info": {
   "codemirror_mode": {
    "name": "ipython",
    "version": 3
   },
   "file_extension": ".py",
   "mimetype": "text/x-python",
   "name": "python",
   "nbconvert_exporter": "python",
   "pygments_lexer": "ipython3",
   "version": "3.10.11"
  }
 },
 "nbformat": 4,
 "nbformat_minor": 2
}
